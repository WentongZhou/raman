{
 "cells": [
  {
   "cell_type": "code",
   "execution_count": 1,
   "metadata": {
    "collapsed": true,
    "pycharm": {
     "name": "#%%\n"
    }
   },
   "outputs": [],
   "source": [
    "import lmfit\n",
    "from lmfit.models import GaussianModel\n",
    "import numpy as np\n",
    "spectrum = np.genfromtxt('1.dat')\n",
    "from matplotlib import pyplot as plt\n",
    "import rampy as rp\n",
    "import scipy"
   ]
  },
  {
   "cell_type": "code",
   "execution_count": null,
   "outputs": [],
   "source": [
    "plt.figure(figsize=(5,5))\n",
    "plt.plot(spectrum[:,0],spectrum[:,1],'k.',markersize=3)\n",
    "plt.xlabel(\"Raman shift, cm$^{-1}$\", fontsize = 12)\n",
    "plt.ylabel(\"Normalized intensity, a. u.\", fontsize = 12)\n",
    "plt.ylim(0,4800)\n",
    "plt.title(\"Fig. 1: the raw data\",fontsize = 12,fontweight=\"bold\")"
   ],
   "metadata": {
    "collapsed": false,
    "pycharm": {
     "name": "#%%\n"
    }
   }
  },
  {
   "cell_type": "code",
   "execution_count": null,
   "outputs": [],
   "source": [
    "x_new = np.arange(2600., 2800., 0.5)\n",
    "y_new = rp.resample(spectrum[:,0], spectrum[:,1], x_new)\n",
    "spectrum_resample = np.vstack((x_new,y_new)).T"
   ],
   "metadata": {
    "collapsed": false,
    "pycharm": {
     "name": "#%%\n"
    }
   }
  },
  {
   "cell_type": "code",
   "execution_count": null,
   "outputs": [],
   "source": [
    "plt.figure(figsize=(5,5))\n",
    "plt.plot(spectrum_resample[:,0],spectrum_resample[:,1],'k.',markersize=8)\n",
    "plt.xlabel(\"Raman shift, cm$^{-1}$\", fontsize = 12)\n",
    "plt.ylabel(\"Normalized intensity, a. u.\", fontsize = 12)\n",
    "plt.title(\"Fig. 2: the resampled data\",fontsize = 12,fontweight=\"bold\")"
   ],
   "metadata": {
    "collapsed": false,
    "pycharm": {
     "name": "#%%\n"
    }
   }
  },
  {
   "cell_type": "code",
   "execution_count": null,
   "outputs": [],
   "source": [
    "bir = np.array([(2600,2605),(2770,2775)])\n",
    "y_corr, y_base = rp.baseline(spectrum_resample[:,0],spectrum_resample[:,1],bir,'poly',polynomial_order=3)"
   ],
   "metadata": {
    "collapsed": false,
    "pycharm": {
     "name": "#%%\n"
    }
   }
  },
  {
   "cell_type": "code",
   "execution_count": null,
   "outputs": [],
   "source": [
    "lb = 2620 # The lower boundary of interest\n",
    "hb = 2775 # The upper boundary of interest\n",
    "x = spectrum_resample[:,0]\n",
    "x_fit = x[np.where((x > lb)&(x < hb))]\n",
    "y_fit = y_corr[np.where((x > lb)&(x < hb))]\n",
    "ese0 = np.sqrt(abs(y_fit[:,0]))/abs(y_fit[:,0]) # the relative errors after baseline subtraction\n",
    "y_fit[:,0] = y_fit[:,0]/np.amax(y_fit[:,0])*10 # normalise spectra to maximum intensity, easier to handle\n",
    "sigma = abs(ese0*y_fit[:,0]) #calculate good ese"
   ],
   "metadata": {
    "collapsed": false,
    "pycharm": {
     "name": "#%%\n"
    }
   }
  },
  {
   "cell_type": "code",
   "execution_count": null,
   "outputs": [],
   "source": [
    "# create a new plot for showing the spectrum\n",
    "plt.figure()\n",
    "plt.figure(figsize=(8,8))\n",
    "plt.subplot(1,2,1)\n",
    "inp = plt.plot(x,spectrum_resample[:,1],'k-',label='Original')\n",
    "corr = plt.plot(x,y_corr,'b-',label='Corrected') #we use the sample variable because it is not already normalized...\n",
    "bas = plt.plot(x,y_base,'r-',label='Baseline')\n",
    "plt.xlim(lb,2775)\n",
    "plt.ylim(0,800)\n",
    "plt.xlabel(\"Raman shift, cm$^{-1}$\", fontsize = 14)\n",
    "plt.ylabel(\"Normalized intensity, a. u.\", fontsize = 14)\n",
    "plt.legend()\n",
    "plt.title('A) Baseline removal')\n",
    "\n",
    "plt.subplot(1,2,2)\n",
    "plt.plot(x_fit,y_fit,'k.')\n",
    "plt.xlim(lb,2775)\n",
    "plt.ylim(0,12)\n",
    "plt.xlabel(\"Raman shift, cm$^{-1}$\", fontsize = 14)\n",
    "plt.title('B) signal to fit')\n",
    "#plt.tight_layout()\n",
    "plt.suptitle('Figure 3', fontsize = 14,fontweight = 'bold')"
   ],
   "metadata": {
    "collapsed": false,
    "pycharm": {
     "name": "#%%\n"
    }
   }
  },
  {
   "cell_type": "code",
   "execution_count": null,
   "outputs": [],
   "source": [],
   "metadata": {
    "collapsed": false,
    "pycharm": {
     "name": "#%%\n"
    }
   }
  },
  {
   "cell_type": "code",
   "execution_count": null,
   "outputs": [],
   "source": [
    "def residual(n,pars,x,data=None,eps=None):\n",
    "    model_peak=[]\n",
    "    model=0\n",
    "    for i in range(n)+1:\n",
    "        a = 'a'+ str(i)\n",
    "        f = 'f'+ str(i)\n",
    "        l = 'l'+ str(i)\n",
    "        peak = 'peak'+str(i)\n",
    "        aa = pars[a].value\n",
    "        ff = pars[f].value\n",
    "        ll = pars[l].value\n",
    "        locals()[peak] = rp.lorentzian(x,aa,ff,ll)\n",
    "        model_peak.append(locals()[peak])\n",
    "        model += locals()[peak]\n",
    "    if data is None: # if we don't have data, the function only returns the direct calculation\n",
    "        return model, model_peak\n",
    "    if eps is None: # without errors, no ponderation\n",
    "        return (model - data)\n",
    "    return (model - data)/eps # with errors, the difference is ponderated"
   ],
   "metadata": {
    "collapsed": false,
    "pycharm": {
     "name": "#%%\n"
    }
   }
  },
  {
   "cell_type": "code",
   "execution_count": null,
   "outputs": [],
   "source": [
    "params = lmfit.Parameters()\n",
    "params.add_many(('a1',   5,   True,  0,      None,  None),\n",
    "                ('f1',   2640,   True, 2620,    2700,  None),\n",
    "                ('l1',   10,   True,  0,      40,  None),\n",
    "                ('a2',   5,   True,  0,      None,  None),\n",
    "                ('f2',   2670,  True, 2620,   2700,  None),\n",
    "                ('l2',   10,   True,  0,   20,  None))\n",
    "                # ('a3',   5,    True,    0,      None,  None),\n",
    "                # ('f3',   2735,  True, 2650,   2775,  None),\n",
    "                # ('l3',   10,   True,  0,   40,  None))"
   ],
   "metadata": {
    "collapsed": false,
    "pycharm": {
     "name": "#%%\n"
    }
   }
  },
  {
   "cell_type": "code",
   "execution_count": null,
   "outputs": [],
   "source": [
    "params['f1'].vary = False\n",
    "params['f2'].vary = False\n",
    "# params['f3'].vary = False"
   ],
   "metadata": {
    "collapsed": false,
    "pycharm": {
     "name": "#%%\n"
    }
   }
  },
  {
   "cell_type": "code",
   "execution_count": null,
   "outputs": [],
   "source": [
    "algo = 'nelder'\n",
    "result = lmfit.minimize(residual, params, method = algo, args=(x_fit, y_fit[:,0])) # fit data with  nelder model from scipy"
   ],
   "metadata": {
    "collapsed": false,
    "pycharm": {
     "name": "#%%\n"
    }
   }
  },
  {
   "cell_type": "code",
   "execution_count": null,
   "outputs": [],
   "source": [
    "params['f1'].vary = True\n",
    "params['f2'].vary = True\n",
    "# params['f3'].vary = True\n"
   ],
   "metadata": {
    "collapsed": false,
    "pycharm": {
     "name": "#%%\n"
    }
   }
  },
  {
   "cell_type": "code",
   "execution_count": null,
   "outputs": [],
   "source": [
    "result2 = lmfit.minimize(residual, params,method = algo, args=(x_fit, y_fit[:,0])) # fit data with leastsq model from scipy"
   ],
   "metadata": {
    "collapsed": false,
    "pycharm": {
     "name": "#%%\n"
    }
   }
  },
  {
   "cell_type": "code",
   "execution_count": null,
   "outputs": [],
   "source": [
    "model = lmfit.fit_report(result2.params)\n",
    "yout, peak1,peak2 = residual(result2.params,x_fit) # the different peaks\n",
    "rchi2 = (1/(float(len(y_fit))-15-1))*np.sum((y_fit - yout)**2/sigma**2) # calculation of the reduced chi-square"
   ],
   "metadata": {
    "collapsed": false,
    "pycharm": {
     "name": "#%%\n"
    }
   }
  },
  {
   "cell_type": "code",
   "execution_count": null,
   "outputs": [],
   "source": [
    "plt.figure(figsize=(8,8))\n",
    "plt.plot(x_fit,y_fit,'k-')\n",
    "plt.plot(x_fit,yout,'r-')\n",
    "plt.plot(x_fit,peak1,'b-')\n",
    "plt.plot(x_fit,peak2,'b-')\n",
    "\n",
    "plt.xlim(lb,hb)\n",
    "plt.ylim(-0.5,10.5)\n",
    "plt.xlabel(\"Raman shift, cm$^{-1}$\", fontsize = 14)\n",
    "plt.ylabel(\"Normalized intensity, a. u.\", fontsize = 14)\n",
    "plt.title(\"Fig. 4: Fit of Raman spectrum ranging from 900 cm$^{-1}$  to 1050 cm$^{-1}$ \",fontsize = 14,fontweight = \"bold\")\n",
    "print(\"rchi-2 = \\n\"+str(rchi2))"
   ],
   "metadata": {
    "collapsed": false,
    "pycharm": {
     "name": "#%%\n"
    }
   }
  }
 ],
 "metadata": {
  "kernelspec": {
   "display_name": "Python 3",
   "language": "python",
   "name": "python3"
  },
  "language_info": {
   "codemirror_mode": {
    "name": "ipython",
    "version": 2
   },
   "file_extension": ".py",
   "mimetype": "text/x-python",
   "name": "python",
   "nbconvert_exporter": "python",
   "pygments_lexer": "ipython2",
   "version": "2.7.6"
  }
 },
 "nbformat": 4,
 "nbformat_minor": 0
}