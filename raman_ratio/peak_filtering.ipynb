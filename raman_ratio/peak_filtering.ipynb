{
 "cells": [
  {
   "cell_type": "code",
   "execution_count": 2,
   "metadata": {},
   "outputs": [],
   "source": [
    "import lmfit\n",
    "import os\n",
    "import numpy as np\n",
    "from matplotlib import pyplot as plt\n",
    "import rampy as rp\n",
    "import scipy\n",
    "from scipy import signal\n",
    "import warnings\n",
    "warnings.filterwarnings(\"ignore\")\n",
    "class raman_analyzer:\n",
    "    def __init__(self,name,min,max,filter):\n",
    "        self.name = name\n",
    "        self.min = min\n",
    "        self.max = max\n",
    "        self.filter = filter\n",
    "        self.peak_pos = []\n",
    "        self.spectrum = np.genfromtxt(self.name)\n",
    "        self.spectrum_resample =[]\n",
    "        self.spectrum_corr = []\n",
    "        self.spectrum_fit = []\n",
    "        self.ese0 = 0.0\n",
    "        self.sigma = 0.0\n",
    "        self.y_base = []\n",
    "        self.peak_wavenumber = []\n",
    "        self.peak_signal = []\n",
    "        self.raman()\n",
    "        self.peak_finder()\n",
    "        self.peak_filtered = []\n",
    "        self.peak_pos_filtered = []\n",
    "        self.signal_filtered = []\n",
    "        self.peak_organizer()\n",
    "        self.fwhm = []\n",
    "        self.fwhm_hline =[]\n",
    "        self.peak_fwhm()\n",
    "\n",
    "    def raman(self):\n",
    "        x_new = np.arange(self.min, self.max, 0.5)\n",
    "        y_new = rp.resample(self.spectrum[:,0], self.spectrum[:,1], x_new)\n",
    "        self.spectrum_resample = np.vstack((x_new,y_new)).T\n",
    "        y_smo_10 = rp.smooth(self.spectrum_resample[:,0],self.spectrum_resample[:,1],method=\"whittaker\",Lambda=3000,window_length=7)\n",
    "        self.spectrum_resample = np.vstack((x_new,y_smo_10)).T\n",
    "        d = scipy.signal.argrelextrema(self.spectrum_resample, np.less)\n",
    "        points = len(d[0])\n",
    "        bir=np.zeros((points,2))\n",
    "        for i in range(len(d[0])):\n",
    "            wavenumber=self.spectrum_resample[d[0][i]][0]\n",
    "            bir[i][0]=wavenumber\n",
    "            bir[i][1]=wavenumber+5\n",
    "        y_corr, self.y_base = rp.baseline(self.spectrum_resample[:,0],self.spectrum_resample[:,1],bir,'drPLS')\n",
    "        x = self.spectrum_resample[:,0]\n",
    "        x_fit = x[np.where((x > self.min)&(x < self.max))]\n",
    "        y_fit = y_corr[np.where((x > self.min)&(x < self.max))]\n",
    "        self.spectrum_corr = np.column_stack((x_fit,y_fit))\n",
    "        self.ese0 = np.sqrt(abs(y_fit[:,0]))/abs(y_fit[:,0]) # the relative errors after baseline subtraction\n",
    "        y_fit[:,0] = y_fit[:,0]/np.amax(y_fit[:,0])*10 # normalise spectra to maximum intensity, easier to handle\n",
    "        self.spectrum_fit = np.column_stack((x_fit,y_fit))\n",
    "        self.sigma = abs(self.ese0*y_fit[:,0])\n",
    "    def peak_finder(self):\n",
    "        peaks_1 = scipy.signal.find_peaks(self.spectrum_fit.T[1])\n",
    "        saddles = scipy.signal.argrelmin(self.spectrum_fit.T[1])\n",
    "        peaks = np.insert(peaks_1[0],0,saddles[0])\n",
    "        peaks = np.sort(peaks)\n",
    "        self.peak_pos = peaks\n",
    "        for peak in peaks:\n",
    "            self.peak_wavenumber.append(self.spectrum_fit.T[0][peak])\n",
    "            self.peak_signal.append(self.spectrum_fit.T[1][peak])\n",
    "    def peak_organizer(self):\n",
    "        for i in range(len(self.peak_wavenumber)):\n",
    "            if self.peak_signal[i] > self.filter:\n",
    "                self.peak_pos_filtered.append(self.peak_pos[i])\n",
    "                self.peak_filtered.append(self.peak_wavenumber[i])\n",
    "                self.signal_filtered.append(self.peak_signal[i])\n",
    "    def peak_fwhm(self):\n",
    "        pw = signal.peak_widths(self.spectrum_fit[:,1],self.peak_pos_filtered,rel_height=0.495)\n",
    "        pw_1 = signal.peak_widths(self.spectrum_fit[:,1],self.peak_pos_filtered,rel_height=0.97)\n",
    "        f = scipy.interpolate.interp1d(range(len(self.spectrum_fit[:,0])),self.spectrum_fit[:,0])\n",
    "        x_left = f(pw[2])\n",
    "        x_right = f(pw[3])\n",
    "        self.fwhm = x_right - x_left\n",
    "        self.fwhm_hline = np.vstack((pw[1],x_left,x_right))\n",
    "def raman_plot(a,min,max):\n",
    "    plt.figure(figsize=(10,5))\n",
    "    plt.subplot(1,2,1)\n",
    "    plt.plot(a.spectrum_resample[:,0],a.spectrum_resample[:,1],'ko',markersize=1,label='spectrum_resample')\n",
    "    plt.plot(a.spectrum_corr[:,0],a.spectrum_corr[:,1],'ro',markersize=1,label='spectrum_corr')\n",
    "    plt.plot(a.spectrum_resample[:,0],a.y_base,'g--',label='baseline',linewidth=2)\n",
    "    plt.xlim(min,max)\n",
    "    plt.xlabel(\"Raman shift, cm$^{-1}$\", fontsize = 12)\n",
    "    plt.ylabel(\"Normalized intensity, a. u.\", fontsize = 12)\n",
    "    plt.legend(fontsize=10)\n",
    "    plt.subplot(1,2,2)\n",
    "    plt.plot(a.spectrum_fit[:,0],a.spectrum_fit[:,1],'#F5420a',marker='.',markersize=3,label='spectrum_fit')\n",
    "    plt.scatter(a.peak_filtered,a.signal_filtered,s=100,c='#0af57c',marker='o')\n",
    "    plt.hlines(*a.fwhm_hline,colors='#2596be').set_linewidth(2)\n",
    "    plt.ylim(-1,11)\n",
    "    plt.xlim(min,max)\n",
    "    plt.xlabel(\"Raman shift, cm$^{-1}$\", fontsize = 12)\n",
    "def residual(pars,x,data=None,eps=None):\n",
    "    model=0.0\n",
    "    peaks_split=[]\n",
    "    for i in range(2):\n",
    "        a = 'a'+ str(i+1)\n",
    "        f = 'f'+ str(i+1)\n",
    "        l = 'l'+ str(i+1)\n",
    "        peak = 'peak'+str(i+1)\n",
    "        amp = pars[a].value\n",
    "        freq = pars[f].value\n",
    "        hwhm = pars[l].value\n",
    "        locals()[peak] = rp.lorentzian(x,amp,freq,hwhm)\n",
    "        model += locals()[peak]\n",
    "        peaks_split.append(locals()[peak])\n",
    "    if data is None:\n",
    "        return model,peaks_split# if we don't have data, the function only returns the direct calculation\n",
    "    if eps is None: # without errors, no ponderation\n",
    "        return (model - data)\n",
    "    return (model - data)/eps # with errors, the difference is ponderated\n",
    "class peak_fitting():\n",
    "    def __init__(self,peaks,amp,hwhm,method,spectrum):\n",
    "        self.peaks = peaks\n",
    "        self.amp = amp\n",
    "        self.hwhm = hwhm\n",
    "        self.method = method\n",
    "        self.model = 0.0\n",
    "        self.data = None\n",
    "        self.eps = None\n",
    "        self.spectrum = spectrum\n",
    "        self.x = self.spectrum[:,0]\n",
    "        self.y = self.spectrum[:,1]\n",
    "        self.params = lmfit.Parameters()\n",
    "        self.param_gen()\n",
    "        for i in range(len(self.peaks)):\n",
    "            self.params['f'+str(i+1)].vary = False\n",
    "        self.result = lmfit.minimize(residual,self.params,self.method,args=(self.x,self.y))\n",
    "        for i in range(len(self.peaks)):\n",
    "            self.params['f'+str(i+1)].vary = True\n",
    "        self.result = lmfit.minimize(residual,self.params,self.method,args=(self.x,self.y))\n",
    "        self.y_out,self.peaks_split = residual(self.result.params,self.spectrum[:,0])\n",
    "    def param_gen(self):\n",
    "        for i in range(len(self.peaks)):\n",
    "            self.params.add_many(('a'+str(i+1),self.amp[i], True , self.amp[i]-1 , self.amp[i]+1, None),\\\n",
    "                            ('f'+str(i+1),self.peaks[i],True,self.peaks[i]-10,self.peaks[i]+30,None),\\\n",
    "                            ('l'+str(i+1),self.hwhm[i] , True , self.hwhm[i]-10 , self.hwhm[i]+30, None))\n",
    "def raman_batch(g,min,max,filter):\n",
    "    g = os.walk(g)\n",
    "    peaks = []\n",
    "    signals = []\n",
    "    fwhm = []\n",
    "    fwhm_test = []\n",
    "    name = []\n",
    "    for path,dir_list,file_list in g:\n",
    "        file_list.sort(key=lambda x:int(x.split('.')[1]))\n",
    "        for file_name in file_list:\n",
    "            a = os.path.join(path,file_name)\n",
    "            raman = raman_analyzer(a,min,max,filter)\n",
    "            peaks.append(raman.peak_filtered)\n",
    "            signals.append(raman.signal_filtered)\n",
    "            name.append(file_name)\n",
    "            fwhm.append(raman.fwhm)\n",
    "            fwhm_test.append(raman.fwhm_hline[0])\n",
    "            x = raman.spectrum_fit[:,0]\n",
    "            y = raman.spectrum_fit[:,1]\n",
    "            spectrum_fit = np.column_stack((x,y))\n",
    "            spectrum_fit = np.savetxt('./'+file_name+'.txt',spectrum_fit,fmt='%10.5f')\n",
    "            # raman_plot(raman,min,max)\n",
    "    return peaks, signals,fwhm,fwhm_test,name\n",
    "def ratio_calculator(directory,filter):\n",
    "    a_1,b_1,c_1,d_1,name_1 = raman_batch(directory,1200,1400,7)\n",
    "    aaa = np.zeros((len(a_1),1))\n",
    "    for i in range(len(a_1)):\n",
    "        if len(a_1[i])>1:\n",
    "            num = np.where(b_1[i]==np.max(b_1[i]))\n",
    "            aaa[i] = a_1[i][num[0][0]]\n",
    "        else:\n",
    "            aaa[i] = a_1[i][0]\n",
    "    a_2,b_2,c_2,d_2,name_2 = raman_batch(directory,1500,1700,7)\n",
    "    a_3,b_3,c_3,d_3,name_3 = raman_batch(directory,2600,2900,7)\n",
    "    a_2 = np.array(a_2)\n",
    "    a_3 = np.array(a_3)\n",
    "    a = np.hstack((aaa,a_2,a_3))\n",
    "    a_4,b_4,c_4,d_4,name_4 = raman_batch(directory,1200,2900,0.01)\n",
    "    peaks = []\n",
    "    signals = []\n",
    "    for i in range(len(a_4)):\n",
    "        for j in range(len(a_4[i])):\n",
    "            for s in range(len(a[i])):\n",
    "                if a_4[i][j] < a[i][s] + 2 and a_4[i][j] > a[i][s] - 2:\n",
    "                    peaks.append(a_4[i][j])\n",
    "                    signals.append(b_4[i][j])\n",
    "    names = np.array(name_4)\n",
    "    names = np.hstack((names,'mean','std'))\n",
    "    peaks = np.array(peaks)\n",
    "    signals = np.array(signals)\n",
    "    peaks = peaks.reshape(len(a),3)\n",
    "    peaks_all = np.zeros((len(a)+2,3))\n",
    "    signals = signals.reshape(len(a),3)\n",
    "    signals_all = np.zeros((len(a)+2,3))\n",
    "    for i in range(len(peaks[0])):\n",
    "        peaks_all[:,i] = np.hstack((peaks[:,i],peaks[:,i].mean(),peaks[:,i].std()))\n",
    "    for i in range(len(signals[0])):\n",
    "        signals_all[:,i] = np.hstack((signals[:,i],signals[:,i].mean(),signals[:,i].std()))\n",
    "    twod_g = signals[:,2]/signals[:,1]\n",
    "    d_g = signals[:,0]/signals[:,1]\n",
    "    twod_g = np.hstack((twod_g,twod_g.mean(),twod_g.std()))\n",
    "    for num in range(len(d_g)):\n",
    "        if d_g[num] < filter:\n",
    "            d_g[num]=0\n",
    "    d_g = np.hstack((d_g,d_g.mean(),d_g.std()))\n",
    "    c_3 = np.array(c_3)\n",
    "    c_3 = np.vstack((c_3,c_3.mean(),c_3.std()))\n",
    "    total = np.hstack((peaks_all,signals_all))\n",
    "    total = np.column_stack((names,total,twod_g,d_g,c_3))\n",
    "    return total"
   ]
  },
  {
   "cell_type": "code",
   "execution_count": 3,
   "outputs": [],
   "source": [
    "total = ratio_calculator('./3',0.1)"
   ],
   "metadata": {
    "collapsed": false
   }
  },
  {
   "cell_type": "code",
   "execution_count": 4,
   "outputs": [
    {
     "data": {
      "text/plain": "array([['2209303rdonpur.0.dat', '1345.0', '1587.5', '2682.5',\n        '2.1107798158504885', '3.0961774171189136', '10.0',\n        '3.2297890762685366', '0.6817373591642021', '34.64484933897893'],\n       ['2209303rdonpur.1.dat', '1345.0', '1590.5', '2682.5',\n        '2.11408081170579', '4.439677860554906', '10.0',\n        '2.2524156738593013', '0.4761788756091316', '37.37504091028859'],\n       ['2209303rdonpur.2.dat', '1345.5', '1592.5', '2684.5',\n        '3.121326624343536', '5.794758376509048', '10.0',\n        '1.7256974925025825', '0.5386465528911191', '37.15578305727513'],\n       ['2209303rdonpur.3.dat', '1345.5', '1592.0', '2683.5',\n        '4.632245955483853', '6.385447956047729', '10.0',\n        '1.5660608415935624', '0.7254378999513419', '31.02698959741656'],\n       ['2209303rdonpur.4.dat', '1345.0', '1590.5', '2683.0',\n        '4.1866982540217', '6.818180158650923', '10.0',\n        '1.4666670236502883', '0.6140492267147866', '32.23570811657373'],\n       ['2209303rdonpur.5.dat', '1346.0', '1591.0', '2683.0',\n        '3.1670151462145597', '6.497274447314019', '10.0',\n        '1.5391069103035986', '0.487437489657499', '34.3960598793783'],\n       ['2209303rdonpur.6.dat', '1346.5', '1592.0', '2683.0',\n        '2.612044969365161', '5.753258537244949', '10.0',\n        '1.7381454240693102', '0.4540114010965316', '33.8370046075197'],\n       ['2209303rdonpur.7.dat', '1343.5', '1588.0', '2679.5',\n        '2.8466887522469464', '4.159845532148788', '10.0',\n        '2.4039354160428292', '0.6843255909977205', '36.73605044689293'],\n       ['mean', '1345.25', '1590.5', '2682.6875', '3.0988600411540044',\n        '5.368077535698659', '10.0', '1.990227232286251',\n        '0.5827280495102914', '34.675935744290484'],\n       ['std', '0.82915619758885', '1.7320508075688772',\n        '1.3448396744593758', '0.8504767883961241', '1.236255812846528',\n        '0.0', '0.566510590202017', '0.1002597829191446',\n        '2.1717362050664337']], dtype='<U32')"
     },
     "execution_count": 4,
     "metadata": {},
     "output_type": "execute_result"
    }
   ],
   "source": [
    "total"
   ],
   "metadata": {
    "collapsed": false
   }
  },
  {
   "cell_type": "code",
   "execution_count": 39,
   "outputs": [],
   "source": [
    "c_3 = np.array(c_3)"
   ],
   "metadata": {
    "collapsed": false
   }
  },
  {
   "cell_type": "code",
   "execution_count": 42,
   "outputs": [],
   "source": [
    "c_3 = np.vstack((c_3,c_3.mean(),c_3.std()))"
   ],
   "metadata": {
    "collapsed": false
   }
  },
  {
   "cell_type": "code",
   "execution_count": 43,
   "outputs": [
    {
     "data": {
      "text/plain": "array([[34.64484934],\n       [37.37504091],\n       [37.15578306],\n       [31.0269896 ],\n       [32.23570812],\n       [34.39605988],\n       [33.83700461],\n       [36.73605045],\n       [34.67593574],\n       [ 2.17173621]])"
     },
     "execution_count": 43,
     "metadata": {},
     "output_type": "execute_result"
    }
   ],
   "source": [
    "c_3"
   ],
   "metadata": {
    "collapsed": false
   }
  },
  {
   "cell_type": "code",
   "execution_count": 1,
   "outputs": [],
   "source": [
    "import raman_analyzer.analyzer as raman"
   ],
   "metadata": {
    "collapsed": false
   }
  },
  {
   "cell_type": "code",
   "execution_count": 2,
   "outputs": [],
   "source": [
    "total = raman.ratio_calculator('./3',0.1,2)"
   ],
   "metadata": {
    "collapsed": false
   }
  },
  {
   "cell_type": "code",
   "execution_count": 1,
   "outputs": [
    {
     "ename": "NameError",
     "evalue": "name 'total' is not defined",
     "output_type": "error",
     "traceback": [
      "\u001B[0;31m---------------------------------------------------------------------------\u001B[0m",
      "\u001B[0;31mNameError\u001B[0m                                 Traceback (most recent call last)",
      "\u001B[0;32m/tmp/ipykernel_92958/4166370578.py\u001B[0m in \u001B[0;36m<module>\u001B[0;34m\u001B[0m\n\u001B[0;32m----> 1\u001B[0;31m \u001B[0mtotal\u001B[0m\u001B[0;34m\u001B[0m\u001B[0;34m\u001B[0m\u001B[0m\n\u001B[0m",
      "\u001B[0;31mNameError\u001B[0m: name 'total' is not defined"
     ]
    }
   ],
   "source": [
    "total"
   ],
   "metadata": {
    "collapsed": false
   }
  },
  {
   "cell_type": "code",
   "execution_count": null,
   "outputs": [],
   "source": [],
   "metadata": {
    "collapsed": false
   }
  }
 ],
 "metadata": {
  "kernelspec": {
   "display_name": "Python 3 (ipykernel)",
   "language": "python",
   "name": "python3"
  },
  "language_info": {
   "codemirror_mode": {
    "name": "ipython",
    "version": 3
   },
   "file_extension": ".py",
   "mimetype": "text/x-python",
   "name": "python",
   "nbconvert_exporter": "python",
   "pygments_lexer": "ipython3",
   "version": "3.9.13"
  }
 },
 "nbformat": 4,
 "nbformat_minor": 1
}
