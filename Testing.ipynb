{
 "cells": [
  {
   "cell_type": "code",
   "execution_count": null,
   "metadata": {
    "collapsed": true,
    "pycharm": {
     "name": "#%%\n"
    }
   },
   "outputs": [],
   "source": [
    "import lmfit\n",
    "from lmfit.models import LorentzianModel\n",
    "import numpy as np\n",
    "from matplotlib import pyplot as plt\n",
    "import rampy as rp\n",
    "import scipy\n",
    "import spectrochempy"
   ]
  },
  {
   "cell_type": "code",
   "execution_count": null,
   "outputs": [],
   "source": [
    "def raman(name,min,max):\n",
    "    spectrum = np.genfromtxt(name)\n",
    "    x_new = np.arange(min, max, 0.5)\n",
    "    y_new = rp.resample(spectrum[:,0], spectrum[:,1], x_new)\n",
    "    spectrum_resample = np.vstack((x_new,y_new)).T\n",
    "    y_smo_10 = rp.smooth(spectrum_resample[:,0],spectrum_resample[:,1],method=\"whittaker\",Lambda=3000,window_length=7)\n",
    "    spectrum_resample = np.vstack((x_new,y_smo_10)).T\n",
    "    d = scipy.signal.argrelextrema(spectrum_resample, np.less)\n",
    "    points = len(d[0])\n",
    "    bir=np.zeros((points,2))\n",
    "    for i in range(len(d[0])):\n",
    "        wavenumber=spectrum_resample[d[0][i]][0]\n",
    "        bir[i][0]=wavenumber\n",
    "        bir[i][1]=wavenumber+5\n",
    "    y_corr, y_base = rp.baseline(spectrum_resample[:,0],spectrum_resample[:,1],bir,'drPLS')\n",
    "    x = spectrum_resample[:,0]\n",
    "    x_fit = x[np.where((x > min)&(x < max))]\n",
    "    y_fit = y_corr[np.where((x > min)&(x < max))]\n",
    "    spectrum_corr = np.column_stack((x_fit,y_fit))\n",
    "    ese0 = np.sqrt(abs(y_fit[:,0]))/abs(y_fit[:,0]) # the relative errors after baseline subtraction\n",
    "    y_fit[:,0] = y_fit[:,0]/np.amax(y_fit[:,0])*10 # normalise spectra to maximum intensity, easier to handle\n",
    "    spectrum_fit = np.column_stack((x_fit,y_fit))\n",
    "    sigma = abs(ese0*y_fit[:,0]) #calculate good ese\n",
    "    return spectrum_resample,spectrum_corr,spectrum_fit,y_base,ese0,sigma"
   ],
   "metadata": {
    "collapsed": false,
    "pycharm": {
     "name": "#%%\n"
    }
   }
  },
  {
   "cell_type": "code",
   "execution_count": null,
   "outputs": [],
   "source": [
    "spectrum_resample,spectrum_corr,spectrum_fit,y_base,ese0,sigma =raman('2.dat',840,1300)"
   ],
   "metadata": {
    "collapsed": false,
    "pycharm": {
     "name": "#%%\n"
    }
   }
  },
  {
   "cell_type": "code",
   "execution_count": null,
   "outputs": [],
   "source": [
    "plt.figure()\n",
    "plt.plot(spectrum_resample[:,0],spectrum_resample[:,1],'ko',markersize=1,label='spectrum_resample')\n",
    "plt.plot(spectrum_corr[:,0],spectrum_corr[:,1],'ro',markersize=1,label='spectrum_corr')\n",
    "plt.plot(spectrum_resample[:,0],y_base,'g--',label='baseline',linewidth=2)\n",
    "plt.ylim(-20,30000)\n",
    "plt.xlim(870,1300)\n",
    "plt.xlabel(\"Raman shift, cm$^{-1}$\", fontsize = 12)\n",
    "plt.ylabel(\"Normalized intensity, a. u.\", fontsize = 12)\n",
    "plt.legend(fontsize=10)"
   ],
   "metadata": {
    "collapsed": false,
    "pycharm": {
     "name": "#%%\n"
    }
   }
  },
  {
   "cell_type": "code",
   "execution_count": null,
   "outputs": [],
   "source": [
    "def residual(pars,x,data=None,eps=None):\n",
    "    model=0.0\n",
    "    peaks = []\n",
    "    for i in range(5):\n",
    "        a = 'a'+ str(i+1)\n",
    "        f = 'f'+ str(i+1)\n",
    "        l = 'l'+ str(i+1)\n",
    "        peak = 'peak'+str(i+1)\n",
    "        aa = pars[a].value\n",
    "        ff = pars[f].value\n",
    "        ll = pars[l].value\n",
    "        locals()[peak] = rp.gaussian(x,aa,ff,ll)\n",
    "        model += locals()[peak]\n",
    "        peaks.append(locals()[peak])\n",
    "    if data is None:\n",
    "        return model, peaks # if we don't have data, the function only returns the direct calculation\n",
    "    if eps is None: # without errors, no ponderation\n",
    "        return (model - data)\n",
    "    return (model - data)/eps # with errors, the difference is ponderated"
   ],
   "metadata": {
    "collapsed": false,
    "pycharm": {
     "name": "#%%\n"
    }
   }
  },
  {
   "cell_type": "code",
   "execution_count": null,
   "outputs": [],
   "source": [
    "def peak_finder(data):\n",
    "    peaks_1 = scipy.signal.find_peaks(data.T[1])\n",
    "    saddles = scipy.signal.argrelmin(data.T[1])\n",
    "    peaks = np.insert(peaks_1[0],0,saddle[0])\n",
    "    wavenumbers = []\n",
    "    for peak in peaks:\n",
    "        wavenumbers.append(data.T[0][peak])\n",
    "    wavenumbers = np.sort(wavenumbers)\n",
    "    return wavenumbers\n",
    "\n"
   ],
   "metadata": {
    "collapsed": false,
    "pycharm": {
     "name": "#%%\n"
    }
   }
  },
  {
   "cell_type": "code",
   "execution_count": null,
   "outputs": [],
   "source": [
    "wavenumbers = peak_finder(spectrum_fit)\n",
    "def param_gen(n,wavenumbers):\n",
    "    params = lmfit.Parameters()\n",
    "    for i in range(n):\n",
    "        a = 'a'+ str(i+1)\n",
    "        f = 'f'+ str(i+1)\n",
    "        l = 'l'+ str(i+1)\n",
    "        wavenumber = wavenumbers[i]\n",
    "        params.add_many((a, 2, True , 0 , None, None),\n",
    "                        (f,wavenumber,True,wavenumber-200,wavenumber+200,None),\n",
    "                        (l, 30 , True , 0 , None, None))\n",
    "    return params\n",
    "params= param_gen(5,wavenumbers)"
   ],
   "metadata": {
    "collapsed": false,
    "pycharm": {
     "name": "#%%\n"
    }
   }
  },
  {
   "cell_type": "code",
   "execution_count": null,
   "outputs": [],
   "source": [
    "params = lmfit.Parameters()\n",
    "#               (Name,  Value,  Vary,   Min,  Max,  Expr)\n",
    "params.add_many(('a1',   2.4,   True,  0,      None,  None),\n",
    "                ('f1',   946,   True, 910,    970,  None),\n",
    "                ('l1',   26,   True,  20,      50,  None),\n",
    "                ('a2',   3.5,   True,  0,      None,  None),\n",
    "                ('f2',   1026,  True, 990,   1070,  None),\n",
    "                ('l2',   39,   True,  20,   55,  None),\n",
    "                ('a3',   8.5,    True,    7,      None,  None),\n",
    "                ('f3',   1082,  True, 1070,   1110,  None),\n",
    "                ('l3',   31,   True,  25,   35,  None),\n",
    "                ('a4',   2.2,   True,  0,      None,  None),\n",
    "                ('f4',   1140,  True, 1110,    1160,  None),\n",
    "                ('l4',   35,   True,  20,   50,  None),\n",
    "                ('a5',   2.,   True,  0,      None,  None),\n",
    "                ('f5',   1211,  True, 1180,   1220,  None),\n",
    "                ('l5',   28,   True,  20,   45,  None))"
   ],
   "metadata": {
    "collapsed": false,
    "pycharm": {
     "name": "#%%\n"
    }
   }
  },
  {
   "cell_type": "code",
   "execution_count": null,
   "outputs": [],
   "source": [
    "params['f1'].vary = False\n",
    "params['f2'].vary = False\n",
    "params['f3'].vary = False\n",
    "params['f4'].vary = False\n",
    "params['f5'].vary = False\n",
    "algo = 'powell'\n",
    "result = lmfit.minimize(residual, params, method = algo, args=(spectrum_fit[:,0], spectrum_fit[:,1]))\n",
    "params['f1'].vary = True\n",
    "params['f2'].vary = True\n",
    "params['f3'].vary = True\n",
    "params['f4'].vary = True\n",
    "params['f5'].vary = True\n",
    "result2 = lmfit.minimize(residual, params, method = algo, args=(spectrum_fit[:,0], spectrum_fit[:,1]))\n",
    "model = lmfit.fit_report(result2.params)\n",
    "yout, peaks= residual(result2.params,spectrum_fit[:,0])"
   ],
   "metadata": {
    "collapsed": false,
    "pycharm": {
     "name": "#%%\n"
    }
   }
  },
  {
   "cell_type": "code",
   "execution_count": null,
   "outputs": [],
   "source": [
    "plt.figure()\n",
    "plt.plot(spectrum_fit[:,0],spectrum_fit[:,1],'k*',markersize=2)\n",
    "plt.plot(spectrum_fit[:,0],yout,'ro',markersize=1)\n",
    "for i in range(len(peaks)):\n",
    "    plt.plot(spectrum_fit[:,0],peaks[i],'g-',linewidth=1.1)\n",
    "plt.xlim(870,1300)\n",
    "plt.ylim(0,11)\n",
    "plt.xlabel(\"Raman shift, cm$^{-1}$\", fontsize = 14)\n",
    "plt.ylabel(\"Normalized intensity, a. u.\", fontsize = 14)"
   ],
   "metadata": {
    "collapsed": false,
    "pycharm": {
     "name": "#%%\n"
    }
   }
  },
  {
   "cell_type": "code",
   "execution_count": null,
   "outputs": [],
   "source": [],
   "metadata": {
    "collapsed": false,
    "pycharm": {
     "name": "#%%\n"
    }
   }
  }
 ],
 "metadata": {
  "kernelspec": {
   "display_name": "Python 3",
   "language": "python",
   "name": "python3"
  },
  "language_info": {
   "codemirror_mode": {
    "name": "ipython",
    "version": 2
   },
   "file_extension": ".py",
   "mimetype": "text/x-python",
   "name": "python",
   "nbconvert_exporter": "python",
   "pygments_lexer": "ipython2",
   "version": "2.7.6"
  }
 },
 "nbformat": 4,
 "nbformat_minor": 0
}